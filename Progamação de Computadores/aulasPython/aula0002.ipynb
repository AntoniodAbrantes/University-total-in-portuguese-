{
 "cells": [
  {
   "cell_type": "code",
   "execution_count": 7,
   "metadata": {},
   "outputs": [
    {
     "name": "stdout",
     "output_type": "stream",
     "text": [
      "Você não pode dirigir\n",
      "Obrigado por nos consultar!!\n"
     ]
    }
   ],
   "source": [
    "idade = int(input('Digite sua idade: '))\n",
    "\n",
    "if idade >= 18:\n",
    "    print('Você pode dirigir')\n",
    "else:\n",
    "    print('Você não pode dirigir')    \n",
    "print('Obrigado por nos consultar!!')"
   ]
  },
  {
   "cell_type": "code",
   "execution_count": 2,
   "metadata": {},
   "outputs": [
    {
     "name": "stdout",
     "output_type": "stream",
     "text": [
      "Número positivo\n"
     ]
    }
   ],
   "source": [
    "n1 = int(input('Digite um número: '))\n",
    "\n",
    "if n1 >= 0:\n",
    "    print('Número positivo')\n",
    "else:\n",
    "    print('Número negativo')    "
   ]
  },
  {
   "cell_type": "code",
   "execution_count": 3,
   "metadata": {},
   "outputs": [
    {
     "name": "stdout",
     "output_type": "stream",
     "text": [
      "Infelizmente você foi reprovado e sua média é: 5.833\n"
     ]
    }
   ],
   "source": [
    "nota1 = float(input('Digite a primeira nota: '))\n",
    "nota2 = float(input('Digite a segunda nota: '))\n",
    "nota3 = float(input('Digite a terceira nota: '))\n",
    "\n",
    "media =  (nota1 + nota2 + nota3) / 3\n",
    "\n",
    "if media >= 5:\n",
    "    print('Parabéns você foi aprovado e sua média é: %.2f' % media)\n",
    "else:\n",
    "    print('Infelizmente você vai para a recuperação e sua média é: %.3f' % media)    "
   ]
  },
  {
   "cell_type": "code",
   "execution_count": 7,
   "metadata": {},
   "outputs": [
    {
     "name": "stdout",
     "output_type": "stream",
     "text": [
      "Os números são iguais!!\n"
     ]
    }
   ],
   "source": [
    "n1 = int(input('Digite o primeiro número: '))\n",
    "n2 = int(input('Digite o segundo número: '))\n",
    "n3 = int(input('Digite o terceiro número: '))\n",
    "\n",
    "if n1 > n2 > n3:\n",
    "    print(n1, 'é maior que os outros números')\n",
    "if n2 > n1> n3:\n",
    "    print(n2, 'é maior que os outros números')\n",
    "if n3 > n2 > n1:\n",
    "    print(n3, 'é maior que os outros números')        \n",
    "else:\n",
    "    print('Os números são iguais!!')"
   ]
  },
  {
   "cell_type": "code",
   "execution_count": 11,
   "metadata": {},
   "outputs": [
    {
     "name": "stdout",
     "output_type": "stream",
     "text": [
      "Você é do nordeste!\n"
     ]
    }
   ],
   "source": [
    "sigla = input('Digite a sigla do seu estado: ')\n",
    "\n",
    "if sigla == 'PE' or sigla == 'PB':\n",
    "    print('Você é do nordeste!')\n",
    "\n",
    "if sigla == 'SP' or sigla == 'RJ':\n",
    "    print('Você é do sudeste!')"
   ]
  },
  {
   "cell_type": "code",
   "execution_count": 4,
   "metadata": {},
   "outputs": [
    {
     "name": "stdout",
     "output_type": "stream",
     "text": [
      "----==== LISTA DE PRODUTOS ====----\n",
      "*1 - PIZZA                        *\n",
      "*2 - HAMBURGUER                   *\n",
      "*3 - REFRIGERANTE                 *\n",
      "*4 - BATATA FRITA                 *\n",
      "===================================\n",
      "Não existe esse código na lista :(\n"
     ]
    }
   ],
   "source": [
    "print('----==== LISTA DE PRODUTOS ====----')\n",
    "print('*1 - PIZZA                        *')\n",
    "print('*2 - HAMBURGUER                   *')\n",
    "print('*3 - REFRIGERANTE                 *')\n",
    "print('*4 - BATATA FRITA                 *')\n",
    "print('===================================')\n",
    "cod = int(input('Digite o código do produto: '))\n",
    "\n",
    "if cod == 1:\n",
    "    print('Você comprou pizza! ')\n",
    "elif cod == 2:\n",
    "    print('Você comprou Hamburguer! ')\n",
    "elif cod == 3:\n",
    "    print('Você comprou Refrigerante! ')\n",
    "elif cod == 4:\n",
    "    print('Você comprou Batata Frita')\n",
    "else: \n",
    "    print('Não existe esse código na lista :(')\n"
   ]
  },
  {
   "cell_type": "code",
   "execution_count": 15,
   "metadata": {},
   "outputs": [
    {
     "name": "stdout",
     "output_type": "stream",
     "text": [
      "Seu novo salário é 375.0\n"
     ]
    }
   ],
   "source": [
    "sl =  float(input('Digite seu sálario: '))\n",
    "\n",
    "if sl < 300:\n",
    "    newsl = 300 * 1.45\n",
    "    print('Seu novo salário é', newsl)\n",
    "\n",
    "elif sl >299 and sl<600:\n",
    "    newsl = sl * 1.25\n",
    "    print('Seu novo salário é', newsl)\n",
    "\n",
    "elif sl >299 and sl<600:\n",
    "    newsl = sl * 1.15\n",
    "    print('Seu novo salário é', newsl)\n",
    "    \n"
   ]
  }
 ],
 "metadata": {
  "interpreter": {
   "hash": "aee8b7b246df8f9039afb4144a1f6fd8d2ca17a180786b69acc140d282b71a49"
  },
  "kernelspec": {
   "display_name": "Python 3.10.4 64-bit",
   "language": "python",
   "name": "python3"
  },
  "language_info": {
   "codemirror_mode": {
    "name": "ipython",
    "version": 3
   },
   "file_extension": ".py",
   "mimetype": "text/x-python",
   "name": "python",
   "nbconvert_exporter": "python",
   "pygments_lexer": "ipython3",
   "version": "3.10.4"
  },
  "orig_nbformat": 4
 },
 "nbformat": 4,
 "nbformat_minor": 2
}
