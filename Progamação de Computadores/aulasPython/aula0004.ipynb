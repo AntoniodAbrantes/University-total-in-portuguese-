{
 "cells": [
  {
   "cell_type": "code",
   "execution_count": 6,
   "metadata": {},
   "outputs": [
    {
     "name": "stdout",
     "output_type": "stream",
     "text": [
      "A terceira idade é 3\n"
     ]
    }
   ],
   "source": [
    "idades = []\n",
    "\n",
    "for i in range(3):\n",
    "    idades.append(int(input('Digite uma idade: ')))\n",
    "print('A terceira idade é', idades[2])\n"
   ]
  },
  {
   "cell_type": "code",
   "execution_count": 7,
   "metadata": {},
   "outputs": [
    {
     "name": "stdout",
     "output_type": "stream",
     "text": [
      "A idade do mais velho é:  20\n"
     ]
    }
   ],
   "source": [
    "idades = []\n",
    "\n",
    "for i in range(3):\n",
    "    idades.append(int(input('Digite a ' + str(i+1) + 'º idade:')))\n",
    "\n",
    "maior = 0\n",
    "\n",
    "for i in range(3):\n",
    "    if(idades[i] > maior):\n",
    "        maior = idades[i]\n",
    "\n",
    "print('A idade do mais velho é: ', maior)"
   ]
  },
  {
   "cell_type": "code",
   "execution_count": 20,
   "metadata": {},
   "outputs": [
    {
     "name": "stdout",
     "output_type": "stream",
     "text": [
      "Quantidade de pessoas do sexo masculino é 2  e do sexo feminino é 1\n"
     ]
    }
   ],
   "source": [
    "sexo = []\n",
    "\n",
    "for i in range(3):\n",
    "    sexo.append(str(input('Digite o sexo' + str(i+1) + 'º da pessoa')))\n",
    "\n",
    "homens = 0 \n",
    "mulheres = 0\n",
    "\n",
    "for s in sexo: \n",
    "    if s == \"m\" or s == \"masculino\":\n",
    "        homens = homens + 1 \n",
    "    if s == \"f\" or s == \"feminino\":\n",
    "        mulheres = mulheres + 1\n",
    "print('Quantidade de pessoas do sexo masculino é', homens,'e do sexo feminino é', mulheres)\n"
   ]
  },
  {
   "cell_type": "code",
   "execution_count": 1,
   "metadata": {},
   "outputs": [
    {
     "name": "stdout",
     "output_type": "stream",
     "text": [
      "A quantidade de avaliações ótima é: 3\n",
      "A quantidade de avaliações bom é: 0\n",
      "A quantidade de avaliações regular é: 3\n"
     ]
    }
   ],
   "source": [
    "aval = []\n",
    "querparar = 1\n",
    "\n",
    "while querparar != 0:\n",
    "    aval.append(int(input('Digite sua avaliação; ')))\n",
    "    querparar = int(input('Você quer parar? Se sim, digite 0: '))\n",
    "\n",
    "otimo = 0\n",
    "bom = 0\n",
    "regular = 0\n",
    "\n",
    "for nota in aval:\n",
    "    if nota ==  3:\n",
    "        otimo = otimo + 1\n",
    "    elif nota ==  2:\n",
    "        bom+1\n",
    "    elif nota ==  1:\n",
    "        regular = regular + 1 \n",
    "    else:\n",
    "        print('Opção inválida!')\n",
    "\n",
    "print('A quantidade de avaliações ótima é:', otimo)\n",
    "print('A quantidade de avaliações bom é:', bom)\n",
    "print('A quantidade de avaliações regular é:', regular)"
   ]
  }
 ],
 "metadata": {
  "interpreter": {
   "hash": "aee8b7b246df8f9039afb4144a1f6fd8d2ca17a180786b69acc140d282b71a49"
  },
  "kernelspec": {
   "display_name": "Python 3.10.4 64-bit",
   "language": "python",
   "name": "python3"
  },
  "language_info": {
   "codemirror_mode": {
    "name": "ipython",
    "version": 3
   },
   "file_extension": ".py",
   "mimetype": "text/x-python",
   "name": "python",
   "nbconvert_exporter": "python",
   "pygments_lexer": "ipython3",
   "version": "3.10.4"
  },
  "orig_nbformat": 4
 },
 "nbformat": 4,
 "nbformat_minor": 2
}
