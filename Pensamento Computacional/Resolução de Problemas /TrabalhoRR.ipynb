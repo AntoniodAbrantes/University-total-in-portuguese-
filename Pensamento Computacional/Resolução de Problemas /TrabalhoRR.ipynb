{
 "cells": [
  {
   "cell_type": "code",
   "execution_count": 11,
   "metadata": {},
   "outputs": [
    {
     "name": "stdout",
     "output_type": "stream",
     "text": [
      "A quantidade de salario foi:  1\n"
     ]
    }
   ],
   "source": [
    "salario = [0,0,0,0,0,0,0,0,0]\n",
    "x = 0\n",
    "\n",
    "while True:\n",
    "\n",
    "    money = float(input('Informe o seu salario %d° R$: '%(x+1)))\n",
    "\n",
    "    if 200 < money <299:\n",
    "        salario[0]+=1\n",
    "    elif 300 < money > 399:\n",
    "        salario[1]+=1\n",
    "    elif 400 < money > 499:\n",
    "        salario[2]+=1\n",
    "    elif 500 < money > 599:\n",
    "        salario[3]+=1\n",
    "    elif 600 < money > 699:\n",
    "        salario[4]+=1\n",
    "    elif 700 < money > 799:\n",
    "        salario[5]+=1\n",
    "    elif 800 < money > 899:\n",
    "        salario[6]+=1\n",
    "    elif 900 < money > 999:\n",
    "        salario[7]+=1\n",
    "    elif money >= 1000:\n",
    "        salario[8]=[8]+1\n",
    "    x+=1\n",
    "    cont = input('Quer continuar!? (sim ou nao): ')\n",
    "    if cont == 'nao' or 'n' or 'não':\n",
    "        break\n",
    "print('A quantidade de salarios foram: ', salario[0])"
   ]
  },
  {
   "cell_type": "code",
   "execution_count": null,
   "metadata": {},
   "outputs": [],
   "source": []
  }
 ],
 "metadata": {
  "interpreter": {
   "hash": "aee8b7b246df8f9039afb4144a1f6fd8d2ca17a180786b69acc140d282b71a49"
  },
  "kernelspec": {
   "display_name": "Python 3.10.4 64-bit",
   "language": "python",
   "name": "python3"
  },
  "language_info": {
   "codemirror_mode": {
    "name": "ipython",
    "version": 3
   },
   "file_extension": ".py",
   "mimetype": "text/x-python",
   "name": "python",
   "nbconvert_exporter": "python",
   "pygments_lexer": "ipython3",
   "version": "3.10.4"
  },
  "orig_nbformat": 4
 },
 "nbformat": 4,
 "nbformat_minor": 2
}
