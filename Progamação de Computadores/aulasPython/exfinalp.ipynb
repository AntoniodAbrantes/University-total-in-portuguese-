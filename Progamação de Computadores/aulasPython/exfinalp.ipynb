{
 "cells": [
  {
   "cell_type": "markdown",
   "metadata": {},
   "source": [
    "## Exercício Complementar da nota:"
   ]
  },
  {
   "cell_type": "markdown",
   "metadata": {},
   "source": [
    "#### Faça um programa que lê 4 números reais em uma lista, calcula e exibe a quantidade de números negativos e a soma dos números positivos dessa mesma lista."
   ]
  },
  {
   "cell_type": "code",
   "execution_count": null,
   "metadata": {},
   "outputs": [],
   "source": [
    "\n",
    "lista = []\n",
    "quant_numeros_negativos = 0\n",
    "soma_numeros_positivos = 0\n",
    "\n",
    "for i in range(4):\n",
    "    num = float(input('Digite um número: '))\n",
    "    lista.append(num)\n",
    "\n",
    "for i in range(len(lista)):\n",
    "    if lista[i] < 0:\n",
    "        quant_numeros_negativos += 1\n",
    "\n",
    "for i in range(len(lista)):\n",
    "    if lista[i] > 0:\n",
    "        soma_numeros_positivos += lista[i]\n",
    "\n",
    "print(f'''\\n{sorted(lista)}\n",
    "Quantidade de números negativos: {quant_numeros_negativos}\n",
    "Soma dos números positivos: {soma_numeros_positivos}''')\n",
    "    \n",
    "    "
   ]
  },
  {
   "cell_type": "markdown",
   "metadata": {},
   "source": [
    "#### Faça um programa que lê a resposta de 15 usuários para a seguinte pergunta: “Você gosta de beterraba? Digite 1 para SIM e 2 para NÃO”. Após a coleta da resposta de cada usuário, o algoritmo deverá exibir a quantidade de respostas para cada opção."
   ]
  },
  {
   "cell_type": "code",
   "execution_count": null,
   "metadata": {},
   "outputs": [],
   "source": [
    "sim = 0\n",
    "nao = 0\n",
    "\n",
    "for i in range(5):\n",
    "    resposta = int(input('Você gosta de beterraba? Digite (1) para SIM e (2) para NÃO: '))\n",
    "    if resposta == 1:\n",
    "        sim += 1\n",
    "    elif resposta == 2:\n",
    "        nao += 1\n",
    "    else:\n",
    "        print('Opção inválida!')\n",
    "        while resposta != 1 or resposta != 2:\n",
    "            resposta = int(input('Você gosta de beterraba? Digite (1) para SIM e (2) para NÃO: '))\n",
    "            if resposta == 1:\n",
    "                sim += 1\n",
    "                break\n",
    "            elif resposta == 2:\n",
    "                nao += 1\n",
    "                break\n",
    "            else:\n",
    "                print('Opção inválida!')\n",
    "\n",
    "print(f'''\\nQuantidade dos que gostam: {sim}\n",
    "Quantidade dos que não gostam: {nao}''')"
   ]
  }
 ],
 "metadata": {
  "interpreter": {
   "hash": "aee8b7b246df8f9039afb4144a1f6fd8d2ca17a180786b69acc140d282b71a49"
  },
  "kernelspec": {
   "display_name": "Python 3.10.4 64-bit",
   "language": "python",
   "name": "python3"
  },
  "language_info": {
   "codemirror_mode": {
    "name": "ipython",
    "version": 3
   },
   "file_extension": ".py",
   "mimetype": "text/x-python",
   "name": "python",
   "nbconvert_exporter": "python",
   "pygments_lexer": "ipython3",
   "version": "3.10.4"
  },
  "orig_nbformat": 4
 },
 "nbformat": 4,
 "nbformat_minor": 2
}
