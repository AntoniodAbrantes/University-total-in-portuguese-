{
 "cells": [
  {
   "cell_type": "code",
   "execution_count": 1,
   "metadata": {},
   "outputs": [
    {
     "name": "stdout",
     "output_type": "stream",
     "text": [
      "O TOTAL R$:  1035.0\n"
     ]
    }
   ],
   "source": [
    "a = float(input('Digite o preço do produto: '))\n",
    "b = float(input('Digite a quantidade adquirida: '))\n",
    "c = a * b \n",
    "print('O TOTAL R$: ', c)"
   ]
  },
  {
   "cell_type": "code",
   "execution_count": 2,
   "metadata": {},
   "outputs": [
    {
     "name": "stdout",
     "output_type": "stream",
     "text": [
      "O seu novo salário com o aumento de ficou: 30001.25\n"
     ]
    }
   ],
   "source": [
    "salario = float(input('Digite o seu salário atual: '))\n",
    "aumento = salario + 1.25\n",
    "print('O seu novo salário com o aumento de ficou:', aumento)\n"
   ]
  }
 ],
 "metadata": {
  "interpreter": {
   "hash": "aee8b7b246df8f9039afb4144a1f6fd8d2ca17a180786b69acc140d282b71a49"
  },
  "kernelspec": {
   "display_name": "Python 3.10.4 64-bit",
   "language": "python",
   "name": "python3"
  },
  "language_info": {
   "codemirror_mode": {
    "name": "ipython",
    "version": 3
   },
   "file_extension": ".py",
   "mimetype": "text/x-python",
   "name": "python",
   "nbconvert_exporter": "python",
   "pygments_lexer": "ipython3",
   "version": "3.10.4"
  },
  "orig_nbformat": 4
 },
 "nbformat": 4,
 "nbformat_minor": 2
}
