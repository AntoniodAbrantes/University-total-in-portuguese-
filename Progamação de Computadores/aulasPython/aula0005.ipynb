{
 "cells": [
  {
   "cell_type": "code",
   "execution_count": 10,
   "metadata": {},
   "outputs": [
    {
     "name": "stdout",
     "output_type": "stream",
     "text": [
      "Times da PB: Leão\n"
     ]
    }
   ],
   "source": [
    "matriz = [\n",
    "    ['Belo','Raposa', 'Tigre'], \n",
    "    ['Leão', 'Timbu', 'Coral'], \n",
    "    ['Tricolor', 'Porco', 'Gamba']\n",
    "]\n",
    "print('Times da PB:', matriz[1][0])"
   ]
  },
  {
   "cell_type": "code",
   "execution_count": 28,
   "metadata": {},
   "outputs": [
    {
     "name": "stdout",
     "output_type": "stream",
     "text": [
      "[[1], [2], [3], [4]]\n"
     ]
    }
   ],
   "source": [
    "numeros = [[int(input('Digite o primeiro número: '))],[int(input('Digite o segundo número: '))], \n",
    "          [int(input('Digite o terceiro número: '))], [int(input('Digite o quarto número: '))]]\n",
    "          \n",
    "print(numeros)"
   ]
  },
  {
   "cell_type": "code",
   "execution_count": 32,
   "metadata": {},
   "outputs": [
    {
     "name": "stdout",
     "output_type": "stream",
     "text": [
      "[[35, 45], [50, 55]]\n"
     ]
    }
   ],
   "source": [
    "numeros = [[0,0], [0,0]]\n",
    "\n",
    "for i in range(2):\n",
    "    for j in range(2):\n",
    "        numeros[i][j] = int(input('Digite um número: '))\n",
    "print(numeros)\n"
   ]
  },
  {
   "cell_type": "code",
   "execution_count": 34,
   "metadata": {},
   "outputs": [
    {
     "name": "stdout",
     "output_type": "stream",
     "text": [
      "[[2, 4], [3, 4]]\n"
     ]
    }
   ],
   "source": [
    "numeros = []\n",
    "\n",
    "lista = [2, 3]\n",
    "lista2 = [3, 5]\n",
    "\n",
    "numeros.append(lista)\n",
    "numeros.append(lista2)\n",
    "\n",
    "print(numeros)"
   ]
  },
  {
   "cell_type": "code",
   "execution_count": 37,
   "metadata": {},
   "outputs": [
    {
     "name": "stdout",
     "output_type": "stream",
     "text": [
      "[[1, 2, 3, 4, 5, 6, 7, 8, 9, 10], [11, 12, 13, 14, 15, 16, 17, 18, 19, 20], [21, 22, 23, 24, 25, 26, 27, 28, 29, 30], [31, 32, 33, 34, 35, 36, 37, 38, 39, 40], [41, 42, 43, 44, 45, 46, 47, 48, 49, 50], [51, 52, 53, 54, 55, 56, 57, 58, 59, 60], [61, 62, 63, 64, 65, 66, 67, 68, 69, 70], [71, 72, 73, 74, 75, 76, 77, 78, 79, 80], [81, 82, 83, 84, 85, 86, 87, 88, 89, 90], [91, 92, 93, 94, 95, 96, 97, 98, 99, 100]]\n"
     ]
    }
   ],
   "source": [
    "numeros = []\n",
    "\n",
    "for i in range(10): #onde ta 'i' e 'j' posso colocar qualquer nome para a variável.\n",
    "    linha = []\n",
    "    for j in range(10):\n",
    "       numero = int(input('Digite um número: '))\n",
    "       linha.append(numero)\n",
    "    numeros.append(linha)\n",
    "\n",
    "print(numeros)\n",
    "        \n",
    "        \n",
    "         "
   ]
  },
  {
   "cell_type": "code",
   "execution_count": 55,
   "metadata": {},
   "outputs": [
    {
     "name": "stdout",
     "output_type": "stream",
     "text": [
      "[[12, 13], [14, 15]]\n",
      "[14, 15]\n"
     ]
    }
   ],
   "source": [
    "numeros = []\n",
    "\n",
    "for i in range(2):\n",
    "    linhas = []\n",
    "    for j in range(2):\n",
    "        numero = int(input('Digite um número: '))\n",
    "        linhas.append(numero)\n",
    "    numeros.append(linhas) \n",
    "\n",
    "print(numeros) \n",
    "print(numeros[1])"
   ]
  },
  {
   "cell_type": "code",
   "execution_count": 61,
   "metadata": {},
   "outputs": [
    {
     "name": "stdout",
     "output_type": "stream",
     "text": [
      "89.0\n"
     ]
    }
   ],
   "source": [
    "pesos = []\n",
    "maior = 0\n",
    "\n",
    "#preencher toda a matriz de pesos (cadastro)\n",
    "for i in range(3):\n",
    "    linha = []\n",
    "    for j in range(3):\n",
    "        peso = float(input('Digite um peso: '))\n",
    "        linha.append(peso)\n",
    "    pesos.append(linha)\n",
    "#preencher a matriz atras do maior peso\n",
    "for i in range(3):\n",
    "    for j in range(3):\n",
    "        if pesos[i][j] > maior:\n",
    "            maior = pesos[i][j]\n",
    "print(maior)"
   ]
  }
 ],
 "metadata": {
  "interpreter": {
   "hash": "aee8b7b246df8f9039afb4144a1f6fd8d2ca17a180786b69acc140d282b71a49"
  },
  "kernelspec": {
   "display_name": "Python 3.10.4 64-bit",
   "language": "python",
   "name": "python3"
  },
  "language_info": {
   "codemirror_mode": {
    "name": "ipython",
    "version": 3
   },
   "file_extension": ".py",
   "mimetype": "text/x-python",
   "name": "python",
   "nbconvert_exporter": "python",
   "pygments_lexer": "ipython3",
   "version": "3.10.4"
  },
  "orig_nbformat": 4
 },
 "nbformat": 4,
 "nbformat_minor": 2
}
