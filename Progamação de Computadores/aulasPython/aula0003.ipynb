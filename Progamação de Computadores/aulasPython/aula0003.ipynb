{
 "cells": [
  {
   "cell_type": "code",
   "execution_count": 3,
   "metadata": {},
   "outputs": [],
   "source": [
    "n = int(input('Digite um número: '))\n",
    "\n",
    "while(n !=0 ):\n",
    "    print('O usuário digitou', n)\n",
    "    n =  int(input('Digite outro:'))\n"
   ]
  },
  {
   "cell_type": "code",
   "execution_count": 6,
   "metadata": {},
   "outputs": [
    {
     "name": "stdout",
     "output_type": "stream",
     "text": [
      "----==== S E N H A   C O R R E T A ====-----\n"
     ]
    }
   ],
   "source": [
    "tentativa = input('Digite a senha:')\n",
    "\n",
    "while tentativa != 'naodigo':\n",
    "    tentativa = input('Senha incorreta! Digite novamente: ')\n",
    "print ('----==== S E N H A   C O R R E T A ====-----')    \n",
    "\n",
    "\n",
    "\n"
   ]
  },
  {
   "cell_type": "code",
   "execution_count": 8,
   "metadata": {},
   "outputs": [
    {
     "name": "stdout",
     "output_type": "stream",
     "text": [
      "O usuário digitou o número dois 6  vezes\n"
     ]
    }
   ],
   "source": [
    "contador2 = 0\n",
    "n = int(input('Digite um  número: '))\n",
    "\n",
    "while n != 0:\n",
    "    if n == 2:\n",
    "        contador2 +=1\n",
    "    n = int(input('Digite outro:')) \n",
    "print('O usuário digitou o número dois' ,contador2, ' vezes')\n",
    "\n",
    "\n",
    "\n",
    "\n"
   ]
  },
  {
   "cell_type": "code",
   "execution_count": 9,
   "metadata": {},
   "outputs": [
    {
     "name": "stdout",
     "output_type": "stream",
     "text": [
      "1\n",
      "3\n",
      "5\n",
      "7\n",
      "9\n",
      "11\n",
      "13\n",
      "15\n",
      "17\n",
      "19\n"
     ]
    }
   ],
   "source": [
    "for i in range(1, 20, 2):\n",
    "    print(i)\n"
   ]
  }
 ],
 "metadata": {
  "interpreter": {
   "hash": "aee8b7b246df8f9039afb4144a1f6fd8d2ca17a180786b69acc140d282b71a49"
  },
  "kernelspec": {
   "display_name": "Python 3.10.4 64-bit",
   "language": "python",
   "name": "python3"
  },
  "language_info": {
   "codemirror_mode": {
    "name": "ipython",
    "version": 3
   },
   "file_extension": ".py",
   "mimetype": "text/x-python",
   "name": "python",
   "nbconvert_exporter": "python",
   "pygments_lexer": "ipython3",
   "version": "3.10.4"
  },
  "orig_nbformat": 4
 },
 "nbformat": 4,
 "nbformat_minor": 2
}
